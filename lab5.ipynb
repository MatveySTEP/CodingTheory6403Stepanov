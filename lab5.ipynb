{
 "nbformat": 4,
 "nbformat_minor": 0,
 "metadata": {
  "colab": {
   "provenance": []
  },
  "kernelspec": {
   "name": "python3",
   "display_name": "Python 3"
  },
  "language_info": {
   "name": "python"
  }
 },
 "cells": [
  {
   "cell_type": "markdown",
   "source": [
    "# Лабораторная работа №5 по предмету \"Теория кодирования\".\n",
    "Выполнили студенты: Степанов Матвей и Овчинников Егор 6403-010302D\n",
    "\n"
   ],
   "metadata": {
    "id": "q9kzw1jcIq_A"
   }
  },
  {
   "cell_type": "code",
   "execution_count": 243,
   "metadata": {
    "id": "zNvpAEYiIoby"
   },
   "outputs": [],
   "source": [
    "import numpy as np\n",
    "import math\n",
    "from itertools import combinations, product\n",
    "import random\n",
    "from operator import itemgetter"
   ]
  },
  {
   "cell_type": "markdown",
   "source": [
    "# 5.1 Написать функцию формирования порождающей матрицы кода Рида-Маллера (r,m) в каноническом виде для произвольно заданных r и m."
   ],
   "metadata": {
    "id": "LaR7XJeEIuQz"
   }
  },
  {
   "cell_type": "code",
   "source": [
    "# Формируем бинарную матрицу с 2^cols строк и cols столбцами (все возможные двоичные векторы длины cols)\n",
    "def generate_binary_matrix(cols):\n",
    "    return list(product([0, 1], repeat=cols))"
   ],
   "metadata": {
    "id": "B023tNDoaeoK"
   },
   "execution_count": 244,
   "outputs": []
  },
  {
   "cell_type": "code",
   "source": [
    "# Вычисляем значение функции f для множества I\n",
    "def compute_f_value(vector, subset):\n",
    "    return np.prod([(vector[idx] + 1) % 2 for idx in subset])"
   ],
   "metadata": {
    "id": "e8aR-G2aafo5"
   },
   "execution_count": 245,
   "outputs": []
  },
  {
   "cell_type": "code",
   "source": [
    "# Формируем вектор V_I на основе множества I\n",
    "def get_vector_V(subset, num_cols):\n",
    "    if len(subset) == 0:\n",
    "        return np.ones(2 ** num_cols, int)\n",
    "    else:\n",
    "        v_vector = []\n",
    "        for binary_vector in generate_binary_matrix(num_cols):\n",
    "            f_value = compute_f_value(binary_vector, subset)\n",
    "            v_vector.append(f_value)\n",
    "        return v_vector"
   ],
   "metadata": {
    "id": "FzQrpbLgahqI"
   },
   "execution_count": 246,
   "outputs": []
  },
  {
   "cell_type": "code",
   "source": [
    "# Генерация всех возможных комбинаций I длиной не более r\n",
    "def generate_combinations(num_cols, max_size):\n",
    "    indices = range(num_cols)\n",
    "    return [subset for subset_size in range(max_size + 1) for subset in combinations(indices, subset_size)]"
   ],
   "metadata": {
    "id": "lTRfBxNaaimB"
   },
   "execution_count": 247,
   "outputs": []
  },
  {
   "cell_type": "code",
   "source": [
    "# Вычисляем размер порождающей матрицы кода Рида-Маллера\n",
    "def calculate_rm_matrix_size(r, m):\n",
    "    return sum(math.comb(m, i) for i in range(r + 1))"
   ],
   "metadata": {
    "id": "A6M6g0XJajtW"
   },
   "execution_count": 248,
   "outputs": []
  },
  {
   "cell_type": "code",
   "source": [
    "# Формирование порождающей матрицы G для кода Рида-Маллера\n",
    "def generate_rm_matrix(r, m):\n",
    "    matrix_size = calculate_rm_matrix_size(r, m)\n",
    "    matrix = np.zeros((matrix_size, 2 ** m), dtype=int)\n",
    "    row_index = 0\n",
    "    for subset in generate_combinations(m, r):\n",
    "        matrix[row_index] = get_vector_V(subset, m)\n",
    "        row_index += 1\n",
    "    return matrix"
   ],
   "metadata": {
    "id": "G6-vfqE5W9_V"
   },
   "execution_count": 249,
   "outputs": []
  },
  {
   "cell_type": "code",
   "source": [
    "# Генерация порождающей матрицы кода Рида-Маллера\n",
    "G = generate_rm_matrix(2, 4)\n",
    "print(\"Порождающая матрица:\\n\", G)"
   ],
   "metadata": {
    "colab": {
     "base_uri": "https://localhost:8080/"
    },
    "id": "6pH3Ltn7XUv8",
    "outputId": "37def1f9-0c13-445a-8968-fed86f8148f0"
   },
   "execution_count": 250,
   "outputs": [
    {
     "output_type": "stream",
     "name": "stdout",
     "text": [
      "Порождающая матрица:\n",
      " [[1 1 1 1 1 1 1 1 1 1 1 1 1 1 1 1]\n",
      " [1 1 1 1 1 1 1 1 0 0 0 0 0 0 0 0]\n",
      " [1 1 1 1 0 0 0 0 1 1 1 1 0 0 0 0]\n",
      " [1 1 0 0 1 1 0 0 1 1 0 0 1 1 0 0]\n",
      " [1 0 1 0 1 0 1 0 1 0 1 0 1 0 1 0]\n",
      " [1 1 1 1 0 0 0 0 0 0 0 0 0 0 0 0]\n",
      " [1 1 0 0 1 1 0 0 0 0 0 0 0 0 0 0]\n",
      " [1 0 1 0 1 0 1 0 0 0 0 0 0 0 0 0]\n",
      " [1 1 0 0 0 0 0 0 1 1 0 0 0 0 0 0]\n",
      " [1 0 1 0 0 0 0 0 1 0 1 0 0 0 0 0]\n",
      " [1 0 0 0 1 0 0 0 1 0 0 0 1 0 0 0]]\n"
     ]
    }
   ]
  },
  {
   "cell_type": "markdown",
   "source": [
    "# 5.2. Реализовать алгоритм мажоритарного декодирования для кода Рида-Маллера."
   ],
   "metadata": {
    "id": "h3R4C9NqIvS2"
   }
  },
  {
   "cell_type": "code",
   "source": [
    "# Сортировка для декодирования\n",
    "def sort_for_major(m, r):\n",
    "    indices = range(m)\n",
    "\n",
    "    combinations_list = list(combinations(indices, r))\n",
    "    if combinations_list:\n",
    "        combinations_list.sort(key=lambda x: len(x))\n",
    "\n",
    "    result = np.array(combinations_list, dtype=int)\n",
    "    return result"
   ],
   "metadata": {
    "id": "w4nzyJ-Og102"
   },
   "execution_count": 251,
   "outputs": []
  },
  {
   "cell_type": "code",
   "source": [
    "def get_vector_H(I, m):\n",
    "    return [word for word in generate_binary_matrix(m) if compute_f_value(word, I) == 1]"
   ],
   "metadata": {
    "id": "uIfFfQU_g3qT"
   },
   "execution_count": 252,
   "outputs": []
  },
  {
   "cell_type": "code",
   "source": [
    "# Формирование комплиментарного множества\n",
    "def get_Komplement(I, m):\n",
    "    return [i for i in range(m) if i not in I]"
   ],
   "metadata": {
    "id": "wjW-OUf5g5Ia"
   },
   "execution_count": 253,
   "outputs": []
  },
  {
   "cell_type": "code",
   "source": [
    "def compute_f_t_value(words, I, t):\n",
    "    return np.prod([(words[j] + t[j] + 1) % 2 for j in I])"
   ],
   "metadata": {
    "id": "QPE6pSO7g65l"
   },
   "execution_count": 254,
   "outputs": []
  },
  {
   "cell_type": "code",
   "source": [
    "def get_V_I_t(I, m, t):\n",
    "    if not I:\n",
    "        return np.ones(2 ** m, dtype=int)\n",
    "    return [compute_f_t_value(word, I, t) for word in generate_binary_matrix(m)]"
   ],
   "metadata": {
    "id": "11ON4D2rg8B4"
   },
   "execution_count": 255,
   "outputs": []
  },
  {
   "cell_type": "code",
   "source": [
    "# Мажоритарное декодирование\n",
    "def major_algorithm(w, r, m, size):\n",
    "    i = r\n",
    "    w_r = w.copy()\n",
    "    Mi = np.zeros(size, dtype=int)\n",
    "    max_weight = 2**(m - r - 1) - 1\n",
    "    index = 0\n",
    "\n",
    "    while True:\n",
    "        for J in sort_for_major(m, i):\n",
    "            max_zeros_and_ones_count = 2**(m - i - 1)\n",
    "            zeros_count = 0\n",
    "            ones_count = 0\n",
    "            for t in get_vector_H(J, m):\n",
    "                komplement = get_Komplement(J, m)\n",
    "                V = get_V_I_t(komplement, m, t)\n",
    "                c = np.dot(w_r, V) % 2\n",
    "\n",
    "                if c == 0:\n",
    "                    zeros_count += 1\n",
    "                else:  # c == 1\n",
    "                    ones_count += 1\n",
    "\n",
    "            if zeros_count > max_weight and ones_count > max_weight:\n",
    "                return\n",
    "            if zeros_count > max_zeros_and_ones_count:\n",
    "                Mi[index] = 0\n",
    "                index += 1\n",
    "            if ones_count > max_zeros_and_ones_count:\n",
    "                Mi[index] = 1\n",
    "                index += 1\n",
    "                V = get_vector_V(J, m)\n",
    "                w_r = (w_r + V) % 2\n",
    "\n",
    "        if i > 0:\n",
    "            if len(w_r) < max_weight:\n",
    "                for J in sort_for_major(m, r + 1):\n",
    "                    Mi[index] = 0\n",
    "                    index += 1\n",
    "                break\n",
    "            i -= 1\n",
    "        else:\n",
    "            break\n",
    "\n",
    "    reversed(Mi)\n",
    "    return Mi"
   ],
   "metadata": {
    "id": "Ol_LJUWddgiY"
   },
   "execution_count": 256,
   "outputs": []
  },
  {
   "cell_type": "code",
   "source": [
    "# Генерация слова с указанным количеством ошибок\n",
    "def generate_word_with_n_mistakes(G, error_count):\n",
    "    u = np.array([1, 0, 0, 0, 1, 1, 0, 0, 0, 1, 1])\n",
    "    print(\"Исходное сообщение: \", u)\n",
    "\n",
    "    u = u.dot(G) % 2\n",
    "    mistake_pos = np.random.choice(len(u), size=error_count, replace=False)\n",
    "    u[mistake_pos] = (u[mistake_pos] + 1) % 2\n",
    "\n",
    "    return u"
   ],
   "metadata": {
    "id": "4BGHwD8sg-Ph"
   },
   "execution_count": 257,
   "outputs": []
  },
  {
   "cell_type": "markdown",
   "source": [
    "# 5.3. Провести экспериментальную проверку алгоритма декодирования для кода Рида-Маллера (2,4)."
   ],
   "metadata": {
    "id": "AxeXsBNuIvBM"
   }
  },
  {
   "cell_type": "code",
   "source": [
    "# Эксперимент для однократной ошибки\n",
    "Err = generate_word_with_n_mistakes(G, 1)\n",
    "print(\"Слово с однократной ошибкой:\", Err)\n",
    "print()\n",
    "\n",
    "Decoded_word = major_algorithm(Err, 2, 4, len(G))\n",
    "if Decoded_word is None:\n",
    "    print(\"\\nНеобходима повторная отправка сообщения\")\n",
    "else:\n",
    "    print(\"Исправленное слово:\", Decoded_word)\n",
    "    V2 = Decoded_word.dot(G) % 2\n",
    "    print(\"Результат умножения исправленного слова на матрицу G:\", V2)"
   ],
   "metadata": {
    "colab": {
     "base_uri": "https://localhost:8080/"
    },
    "id": "r5pK_TfIgeQT",
    "outputId": "431ae18b-35f3-44fd-eec1-ea5cb4140e19"
   },
   "execution_count": 258,
   "outputs": [
    {
     "output_type": "stream",
     "name": "stdout",
     "text": [
      "Исходное сообщение:  [1 0 0 0 1 1 0 0 0 1 1]\n",
      "Слово с однократной ошибкой: [1 0 0 0 0 1 0 1 0 1 1 1 1 1 0 1]\n",
      "\n",
      "Исправленное слово: [1 0 0 0 1 1 0 0 0 1 1]\n",
      "Результат умножения исправленного слова на матрицу G: [1 0 0 0 1 1 0 1 0 1 1 1 1 1 0 1]\n"
     ]
    }
   ]
  },
  {
   "cell_type": "code",
   "source": [
    "# Эксперимент для двукратной ошибки\n",
    "Err = generate_word_with_n_mistakes(G, 2)\n",
    "print(\"Слово с двукратной ошибкой:\", Err)\n",
    "\n",
    "Decoded_word = major_algorithm(Err, 2, 4, len(G))\n",
    "if Decoded_word is None:\n",
    "   print(\"\\nНеобходима повторная отправка сообщения\")\n",
    "else:\n",
    "   print(\"Исправленное слово:\", Decoded_word)\n",
    "   V2 = Decoded_word.dot(G) % 2\n",
    "   print(\"Результат умножения исправленного слова на матрицу G:\", V2)"
   ],
   "metadata": {
    "colab": {
     "base_uri": "https://localhost:8080/"
    },
    "id": "-FF_CUMKM0jw",
    "outputId": "6e5a3088-68ca-45c9-f036-26460e384cd3"
   },
   "execution_count": 259,
   "outputs": [
    {
     "output_type": "stream",
     "name": "stdout",
     "text": [
      "Исходное сообщение:  [1 0 0 0 1 1 0 0 0 1 1]\n",
      "Слово с двукратной ошибкой: [1 0 0 0 1 1 1 1 0 1 1 1 1 1 1 1]\n",
      "\n",
      "Необходима повторная отправка сообщения\n"
     ]
    }
   ]
  }
 ]
}

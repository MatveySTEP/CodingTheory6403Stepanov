{
 "cells": [
  {
   "cell_type": "markdown",
   "source": [
    "### Выполнили студенты группы 6403-010302D Степанов Матвей и Овчинников Егор"
   ],
   "metadata": {
    "collapsed": false
   }
  },
  {
   "cell_type": "code",
   "execution_count": 670,
   "metadata": {},
   "outputs": [],
   "source": [
    "import numpy as np\n",
    "from sympy import Symbol, div"
   ]
  },
  {
   "cell_type": "code",
   "execution_count": 671,
   "metadata": {},
   "outputs": [],
   "source": [
    "n, k = 7, 4"
   ]
  },
  {
   "cell_type": "code",
   "execution_count": 672,
   "metadata": {},
   "outputs": [],
   "source": [
    "x = Symbol('x')\n",
    "g = 1 + x**2 + x**3"
   ]
  },
  {
   "cell_type": "markdown",
   "metadata": {},
   "source": [
    "### Циклический код"
   ]
  },
  {
   "cell_type": "markdown",
   "metadata": {},
   "source": [
    "#### Функция кодирования циклического кода"
   ]
  },
  {
   "cell_type": "code",
   "execution_count": 673,
   "metadata": {},
   "outputs": [],
   "source": [
    "def encode(a, g, n):\n",
    "    a_polynom = 0\n",
    "    for idx, el in enumerate(a):\n",
    "        a_polynom += el * x**idx\n",
    "\n",
    "    coef_dict = dict((a_polynom * g).expand().as_coefficients_dict().items())\n",
    "    received_word = []\n",
    "    for i in range(n):\n",
    "        received_word.append((coef_dict.setdefault(x**i, 0)) % 2)\n",
    "    return received_word    "
   ]
  },
  {
   "cell_type": "markdown",
   "metadata": {},
   "source": [
    "#### Кодируем"
   ]
  },
  {
   "cell_type": "code",
   "execution_count": 674,
   "metadata": {},
   "outputs": [],
   "source": [
    "word = np.array([1, 0, 0, 1])\n",
    "encoded_word = encode(word, g, n)"
   ]
  },
  {
   "cell_type": "markdown",
   "metadata": {},
   "source": [
    "#### Функция декодирования циклического кода"
   ]
  },
  {
   "cell_type": "code",
   "execution_count": 675,
   "metadata": {},
   "outputs": [],
   "source": [
    "def decode(a, g, n, k: int, t: int):\n",
    "    a_polynom = 0\n",
    "    for idx, el in enumerate(a):\n",
    "        a_polynom += el * x**idx\n",
    "\n",
    "    r = div(a_polynom, g)[1]\n",
    "    coef_dict = dict(r.as_coefficients_dict().items())\n",
    "    syndrome = 0\n",
    "    for i in range(n):\n",
    "        syndrome += ((coef_dict.setdefault(x**i, 0) % 2) * x**i)\n",
    "\n",
    "\n",
    "    for i in range(n):\n",
    "        r = div(x**i * syndrome, g)[1]\n",
    "        coef_dict = dict(r.as_coefficients_dict().items())\n",
    "        syndrome_i = 0\n",
    "        for j in range(n):\n",
    "            syndrome_i += ((coef_dict.setdefault(x**j, 0) % 2) * x**j)\n",
    "\n",
    "        if sum(syndrome_i.as_coefficients_dict().values()) <= t:\n",
    "            e = (x**(n - i) * syndrome_i).expand()\n",
    "            result_polynom = a_polynom + e\n",
    "\n",
    "            coef_dict = dict(result_polynom.as_coefficients_dict().items())\n",
    "            result_polynom = 0\n",
    "            for l in range(n):\n",
    "                result_polynom += ((coef_dict.setdefault(x**l, 0)) % 2) * x**l\n",
    "\n",
    "            coef_dict = dict(div(result_polynom, g)[0].as_coefficients_dict().items())\n",
    "            result_word = []\n",
    "            for l in range(k):\n",
    "                result_word.append((coef_dict.setdefault(x**l, 0)) % 2)\n",
    "\n",
    "            return np.array(result_word, dtype=int)    \n",
    "            \n",
    "    return None\n"
   ]
  },
  {
   "cell_type": "markdown",
   "metadata": {},
   "source": [
    "#### Однократная ошибка"
   ]
  },
  {
   "cell_type": "code",
   "execution_count": 676,
   "metadata": {},
   "outputs": [
    {
     "data": {
      "text/plain": [
       "True"
      ]
     },
     "execution_count": 676,
     "metadata": {},
     "output_type": "execute_result"
    }
   ],
   "source": [
    "broken_word = encoded_word.copy()\n",
    "broken_word[0] ^= 1\n",
    "\n",
    "all(decode(broken_word, g, n, k, 1) == word)"
   ]
  },
  {
   "cell_type": "markdown",
   "metadata": {},
   "source": [
    "#### Двукратная ошибка"
   ]
  },
  {
   "cell_type": "code",
   "execution_count": 677,
   "metadata": {},
   "outputs": [
    {
     "data": {
      "text/plain": [
       "False"
      ]
     },
     "execution_count": 677,
     "metadata": {},
     "output_type": "execute_result"
    }
   ],
   "source": [
    "broken_word = encoded_word.copy()\n",
    "broken_word[2] ^= 1\n",
    "broken_word[3] ^= 1\n",
    "\n",
    "all(decode(broken_word, g, n, k, 2) == word)"
   ]
  },
  {
   "cell_type": "markdown",
   "metadata": {},
   "source": [
    "#### Трёхкратная ошибка"
   ]
  },
  {
   "cell_type": "code",
   "execution_count": 678,
   "metadata": {},
   "outputs": [
    {
     "data": {
      "text/plain": [
       "False"
      ]
     },
     "execution_count": 678,
     "metadata": {},
     "output_type": "execute_result"
    }
   ],
   "source": [
    "broken_word = encoded_word.copy()\n",
    "broken_word[2] ^= 1\n",
    "broken_word[3] ^= 1\n",
    "broken_word[4] ^= 1\n",
    "\n",
    "all(decode(broken_word, g, n, k, 3) == word)"
   ]
  },
  {
   "cell_type": "markdown",
   "metadata": {},
   "source": [
    "### Циклический код через пакеты ошибок"
   ]
  },
  {
   "cell_type": "code",
   "execution_count": 679,
   "metadata": {},
   "outputs": [],
   "source": [
    "g = 1 + x ** 3 + x ** 4 + x ** 5 + x ** 6\n",
    "n, k = 15, 9\n",
    "\n",
    "E = np.array([1, 1 + x, 1 + x**2, 1 + x + x**2])"
   ]
  },
  {
   "cell_type": "markdown",
   "metadata": {},
   "source": [
    "#### Функция декодирования"
   ]
  },
  {
   "cell_type": "code",
   "execution_count": 680,
   "metadata": {},
   "outputs": [],
   "source": [
    "def decode(a, g, n, k: int, t: int):\n",
    "    a_polynom = 0\n",
    "    for idx, el in enumerate(a):\n",
    "        a_polynom += el * x**idx\n",
    "\n",
    "    r = div(a_polynom, g)[1]\n",
    "    coef_dict = dict(r.as_coefficients_dict().items())\n",
    "    syndrome = 0\n",
    "    for i in range(n):\n",
    "        syndrome += ((coef_dict.setdefault(x**i, 0) % 2) * x**i)\n",
    "\n",
    "    for i in range(n):\n",
    "        r = div(x**i * syndrome, g)[1]\n",
    "\n",
    "        coef_dict = dict(r.as_coefficients_dict().items())\n",
    "        r = 0\n",
    "        for j in range(n):\n",
    "            r += ((coef_dict.setdefault(x**j, 0) % 2) * x**j)\n",
    "\n",
    "        # print(r)\n",
    "        if r in E:\n",
    "            syndrome_i = r\n",
    "            e = (x**(n - i) * syndrome_i).expand()\n",
    "            result_polynom = a_polynom + e\n",
    "\n",
    "            coef_dict = dict(result_polynom.as_coefficients_dict().items())\n",
    "            result_polynom = 0\n",
    "            for l in range(n):\n",
    "                result_polynom += ((coef_dict.setdefault(x**l, 0)) % 2) * x**l\n",
    "\n",
    "            coef_dict = dict(div(result_polynom, g)[0].as_coefficients_dict().items())\n",
    "            result_word = []\n",
    "            for l in range(k):\n",
    "                result_word.append((coef_dict.setdefault(x**l, 0)) % 2)\n",
    "\n",
    "            return np.array(result_word, dtype=int) \n",
    "            \n",
    "    return None  "
   ]
  },
  {
   "cell_type": "markdown",
   "metadata": {},
   "source": [
    "#### Однократная ошибка"
   ]
  },
  {
   "cell_type": "code",
   "execution_count": 681,
   "metadata": {},
   "outputs": [
    {
     "data": {
      "text/plain": [
       "True"
      ]
     },
     "execution_count": 681,
     "metadata": {},
     "output_type": "execute_result"
    }
   ],
   "source": [
    "word = np.array([1, 0, 0, 1, 0, 0, 0, 1, 1])\n",
    "encoded_word = encode(word, g, n)\n",
    "broken_word = encoded_word.copy()\n",
    "\n",
    "broken_word[5] ^= 1\n",
    "\n",
    "all(decode(broken_word, g, n, k, 1) == word)"
   ]
  },
  {
   "cell_type": "markdown",
   "metadata": {},
   "source": [
    "#### Двукратная ошибка"
   ]
  },
  {
   "cell_type": "code",
   "execution_count": 682,
   "metadata": {},
   "outputs": [
    {
     "data": {
      "text/plain": [
       "True"
      ]
     },
     "execution_count": 682,
     "metadata": {},
     "output_type": "execute_result"
    }
   ],
   "source": [
    "broken_word = encoded_word.copy()\n",
    "\n",
    "broken_word[5] ^= 1\n",
    "broken_word[7] ^= 1\n",
    "\n",
    "all(decode(broken_word, g, n, k, 2) == word)"
   ]
  },
  {
   "cell_type": "markdown",
   "metadata": {},
   "source": [
    "#### Трёхкратная ошибка"
   ]
  },
  {
   "cell_type": "code",
   "execution_count": 683,
   "metadata": {},
   "outputs": [
    {
     "data": {
      "text/plain": [
       "True"
      ]
     },
     "execution_count": 683,
     "metadata": {},
     "output_type": "execute_result"
    }
   ],
   "source": [
    "broken_word = encoded_word.copy()\n",
    "\n",
    "broken_word[5] ^= 1\n",
    "broken_word[6] ^= 1\n",
    "broken_word[7] ^= 1\n",
    "\n",
    "all(decode(broken_word, g, n, k, 3) == word)"
   ]
  },
  {
   "cell_type": "markdown",
   "metadata": {},
   "source": [
    "#### Четырёхкратная ошибка"
   ]
  },
  {
   "cell_type": "code",
   "execution_count": 684,
   "metadata": {},
   "outputs": [
    {
     "data": {
      "text/plain": [
       "False"
      ]
     },
     "execution_count": 684,
     "metadata": {},
     "output_type": "execute_result"
    }
   ],
   "source": [
    "broken_word = encoded_word.copy()\n",
    "\n",
    "broken_word[5] ^= 1\n",
    "broken_word[6] ^= 1\n",
    "broken_word[7] ^= 1\n",
    "broken_word[8] ^= 1\n",
    "\n",
    "all(decode(broken_word, g, n, k, 3) == word)"
   ]
  }
 ],
 "metadata": {
  "kernelspec": {
   "display_name": "Python 3",
   "language": "python",
   "name": "python3"
  },
  "language_info": {
   "codemirror_mode": {
    "name": "ipython",
    "version": 3
   },
   "file_extension": ".py",
   "mimetype": "text/x-python",
   "name": "python",
   "nbconvert_exporter": "python",
   "pygments_lexer": "ipython3",
   "version": "3.10.3"
  }
 },
 "nbformat": 4,
 "nbformat_minor": 2
}

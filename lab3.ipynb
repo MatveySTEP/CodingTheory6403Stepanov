{
 "nbformat": 4,
 "nbformat_minor": 0,
 "metadata": {
  "colab": {
   "provenance": []
  },
  "kernelspec": {
   "name": "python3",
   "display_name": "Python 3"
  },
  "language_info": {
   "name": "python"
  }
 },
 "cells": [
  {
   "cell_type": "markdown",
   "source": [
    "# Лабораторная работа №3 \"Теория кодирования\".\n",
    "Выполнили студенты:\n",
    "Степанов Матвей и Овчинников Егор\n",
    "\n"
   ],
   "metadata": {
    "id": "GSHwa1bc5exM"
   }
  },
  {
   "cell_type": "code",
   "source": [
    "import numpy as np"
   ],
   "metadata": {
    "id": "UQLlZeHe8D-2"
   },
   "execution_count": 1024,
   "outputs": []
  },
  {
   "cell_type": "code",
   "source": [
    "# Функция для генерации матрицы X\n",
    "def generate_X(k, n):\n",
    "    rows = []\n",
    "    total_columns = n - k\n",
    "\n",
    "    # Генерация всех возможных двоичных строк длины total_columns\n",
    "    for i in range(1 << total_columns):\n",
    "      row = [int(bit) for bit in bin(i)[2:].zfill(total_columns)]\n",
    "\n",
    "      if sum(row) >= 2 and row not in rows:\n",
    "        rows.append(row)\n",
    "\n",
    "      if len(rows) >= k:\n",
    "        break\n",
    "\n",
    "    return np.array(rows, dtype=int)"
   ],
   "metadata": {
    "id": "kgFGZqDXBq_S"
   },
   "execution_count": 1025,
   "outputs": []
  },
  {
   "cell_type": "markdown",
   "source": [
    "## 3.1 Написать функцию формирования порождающей и проверочной матриц кода Хэмминга (𝟐𝒓−𝟏,𝟐𝒓−𝒓−𝟏,𝟑) на основе параметра 𝒓, а также таблицы синдромов для всех однократных ошибок."
   ],
   "metadata": {
    "id": "bmK4NVnF5zZq"
   }
  },
  {
   "cell_type": "code",
   "source": [
    "# Функция для генерации порождающей и проверочной матриц\n",
    "def generate_hamming_matrices(r, n, k, x):\n",
    "    # Порождающая матрица G (k x n)\n",
    "    G = np.hstack((np.eye(k, dtype=int), x))\n",
    "\n",
    "    # Проверочная матрица H (n - k) x n\n",
    "    I_n_k = np.eye(n - k, dtype=int)\n",
    "    H = np.hstack((x.T, I_n_k))\n",
    "\n",
    "    return G, H.T"
   ],
   "metadata": {
    "id": "-qJjswROWurc"
   },
   "execution_count": 1026,
   "outputs": []
  },
  {
   "cell_type": "code",
   "source": [
    "def r_init(r):\n",
    "  n = 2**r - 1  # Длина кодового слова\n",
    "  k = 2**r - r - 1  # Длина информационного слова\n",
    "\n",
    "  X = generate_X(k, n)\n",
    "  G, H = generate_hamming_matrices(r, n, k, X)\n",
    "\n",
    "  return G, H, n, k"
   ],
   "metadata": {
    "id": "YLJIvoV2WV9r"
   },
   "execution_count": 1027,
   "outputs": []
  },
  {
   "cell_type": "code",
   "source": [
    "G, H, n, k = r_init(3)\n",
    "print(\"Порождающая матрица G:\\n\", G)\n",
    "print(\"Проверочная матрица H:\\n\", H)"
   ],
   "metadata": {
    "colab": {
     "base_uri": "https://localhost:8080/"
    },
    "id": "Bkch0SzoYL-U",
    "outputId": "e000477b-6f0c-41c1-cecd-26b1389e93aa"
   },
   "execution_count": 1028,
   "outputs": [
    {
     "output_type": "stream",
     "name": "stdout",
     "text": [
      "Порождающая матрица G:\n",
      " [[1 0 0 0 0 1 1]\n",
      " [0 1 0 0 1 0 1]\n",
      " [0 0 1 0 1 1 0]\n",
      " [0 0 0 1 1 1 1]]\n",
      "Проверочная матрица H:\n",
      " [[0 1 1]\n",
      " [1 0 1]\n",
      " [1 1 0]\n",
      " [1 1 1]\n",
      " [1 0 0]\n",
      " [0 1 0]\n",
      " [0 0 1]]\n"
     ]
    }
   ]
  },
  {
   "cell_type": "markdown",
   "source": [
    "## 3.2. Провести исследование кода Хэмминга для одно-, двух- и трёхкратных ошибок для 𝒓=𝟐,𝟑,𝟒."
   ],
   "metadata": {
    "id": "uKsrNy2Y53vq"
   }
  },
  {
   "cell_type": "markdown",
   "source": [
    "# **r = 2**"
   ],
   "metadata": {
    "id": "O_acxheLXskp"
   }
  },
  {
   "cell_type": "code",
   "source": [
    "G, H, n, k = r_init(2)\n",
    "print(\"Порождающая матрица G:\\n\", G)\n",
    "print(\"Проверочная матрица H:\\n\", H)"
   ],
   "metadata": {
    "id": "4dKmX7g2X2HU",
    "colab": {
     "base_uri": "https://localhost:8080/"
    },
    "outputId": "d72802b5-6a90-4e5b-ab98-381dfb1cceb2"
   },
   "execution_count": 1029,
   "outputs": [
    {
     "output_type": "stream",
     "name": "stdout",
     "text": [
      "Порождающая матрица G:\n",
      " [[1 1 1]]\n",
      "Проверочная матрица H:\n",
      " [[1 1]\n",
      " [1 0]\n",
      " [0 1]]\n"
     ]
    }
   ]
  },
  {
   "cell_type": "code",
   "source": [
    "# Создание таблицы синдромов\n",
    "syndromes = {}\n",
    "for i in range(n):\n",
    "    E = np.zeros(n, dtype=int)\n",
    "    E[i] = 1\n",
    "    S = (E @ H) % 2\n",
    "    syndromes[tuple(S)] = tuple(E)"
   ],
   "metadata": {
    "id": "D_9iVcTyYc-c"
   },
   "execution_count": 1030,
   "outputs": []
  },
  {
   "cell_type": "code",
   "source": [
    "message = np.random.randint(0, 2, size=k)\n",
    "print(\"Исходное сообщение:\", message)\n",
    "codeword = (message @ G) % 2\n",
    "print(\"Отправлено:\", codeword)\n",
    "\n",
    "# Внесение однократной ошибки в кодовое слово\n",
    "error_position = np.random.randint(0, n)\n",
    "codeword_with_error = codeword.copy()\n",
    "codeword_with_error[error_position] ^= 1\n",
    "print(\"В ходе передачи возникла ошибка\\nПринято:\", codeword_with_error)\n",
    "\n",
    "# Вычисление синдрома\n",
    "syndrome = (codeword_with_error @ H) % 2\n",
    "print(\"Синдром:\", syndrome)\n",
    "\n",
    "# Исправление ошибки\n",
    "if tuple(syndrome) in syndromes:\n",
    "    error_vector = syndromes[tuple(syndrome)]\n",
    "    print(\"В принятом сообщении есть ошибка\\nОшибка:\", error_vector)\n",
    "\n",
    "    corrected_codeword = codeword_with_error.copy()\n",
    "    corrected_codeword[np.where(np.array(error_vector) == 1)[0]] ^= 1\n",
    "\n",
    "    # Проверка на отличие от отправленного\n",
    "    if not np.array_equal(corrected_codeword, codeword):\n",
    "        print(\"Исправленное слово отличается от отправленного.\")\n",
    "    else:\n",
    "        print(\"Исправленное слово совпадает с отправленным.\")\n",
    "else:\n",
    "    corrected_codeword = codeword_with_error\n",
    "print(\"Исправленное сообщение:\", corrected_codeword)"
   ],
   "metadata": {
    "colab": {
     "base_uri": "https://localhost:8080/"
    },
    "id": "uXR8CwwNbWW8",
    "outputId": "bdbc1b83-9d72-4860-b2d6-e53c9095efd3"
   },
   "execution_count": 1031,
   "outputs": [
    {
     "output_type": "stream",
     "name": "stdout",
     "text": [
      "Исходное сообщение: [1]\n",
      "Отправлено: [1 1 1]\n",
      "В ходе передачи возникла ошибка\n",
      "Принято: [1 1 0]\n",
      "Синдром: [0 1]\n",
      "В принятом сообщении есть ошибка\n",
      "Ошибка: (0, 0, 1)\n",
      "Исправленное слово совпадает с отправленным.\n",
      "Исправленное сообщение: [1 1 1]\n"
     ]
    }
   ]
  },
  {
   "cell_type": "markdown",
   "source": [
    "# **r = 3**"
   ],
   "metadata": {
    "id": "EPAhpZrbbTzW"
   }
  },
  {
   "cell_type": "code",
   "source": [
    "G, H, n, k = r_init(3)\n",
    "print(\"Порождающая матрица G:\\n\", G)\n",
    "print(\"Проверочная матрица H:\\n\", H)"
   ],
   "metadata": {
    "colab": {
     "base_uri": "https://localhost:8080/"
    },
    "id": "dbeZ3PIucJZ8",
    "outputId": "d62779b8-8cbe-4d4b-c472-da0a3e240313"
   },
   "execution_count": 1032,
   "outputs": [
    {
     "output_type": "stream",
     "name": "stdout",
     "text": [
      "Порождающая матрица G:\n",
      " [[1 0 0 0 0 1 1]\n",
      " [0 1 0 0 1 0 1]\n",
      " [0 0 1 0 1 1 0]\n",
      " [0 0 0 1 1 1 1]]\n",
      "Проверочная матрица H:\n",
      " [[0 1 1]\n",
      " [1 0 1]\n",
      " [1 1 0]\n",
      " [1 1 1]\n",
      " [1 0 0]\n",
      " [0 1 0]\n",
      " [0 0 1]]\n"
     ]
    }
   ]
  },
  {
   "cell_type": "code",
   "source": [
    "def generate_syndrome_table(H, n):\n",
    "    syndrome_table = {}\n",
    "\n",
    "    # Однократные ошибки\n",
    "    for i in range(n):\n",
    "        e = np.zeros(n, dtype=int)\n",
    "        e[i] = 1  # Ошибка в позиции i\n",
    "        syndrome = np.dot(e, H) % 2\n",
    "        syndrome_table[tuple(syndrome)] = f\"Ошибка на позиции {i + 1}\"\n",
    "\n",
    "    # Двукратные ошибки\n",
    "    for i in range(n):\n",
    "        for j in range(i + 1, n):\n",
    "            e = np.zeros(n, dtype=int)\n",
    "            e[i] = 1\n",
    "            e[j] = 1  # Ошибка в позициях i и j\n",
    "            syndrome = np.dot(e, H) % 2\n",
    "            syndrome_table[tuple(syndrome)] = f\"Ошибка на позиции ({i + 1}, {j + 1})\"\n",
    "\n",
    "    return syndrome_table\n",
    "\n",
    "syndrome_table = generate_syndrome_table(H, n)"
   ],
   "metadata": {
    "id": "iqWPFoa1cBgA"
   },
   "execution_count": 1033,
   "outputs": []
  },
  {
   "cell_type": "code",
   "source": [
    "message = np.random.randint(0, 2, size=k)\n",
    "print(\"Исходное сообщение:\", message)\n",
    "codeword = (message @ G) % 2\n",
    "print(\"Отправлено:\", codeword)\n",
    "\n",
    "# Внесение двукратной ошибки в кодовое слово\n",
    "error_positions = np.random.choice(n, 2, replace=False)\n",
    "error_codeword = codeword.copy()\n",
    "error_codeword[error_positions] ^= 1  # внесение ошибок\n",
    "print(\"В ходе передачи возникла ошибка\\nПринято:\", error_codeword)\n",
    "\n",
    "# Вычисление синдрома\n",
    "syndrome = (error_codeword @ H) % 2\n",
    "print(\"Синдром:\", syndrome)\n",
    "\n",
    "# Попытка исправить ошибку\n",
    "error_correction = syndrome_table.get(tuple(syndrome), None)\n",
    "\n",
    "if error_correction:\n",
    "    corrected_codeword = np.copy(error_codeword)\n",
    "\n",
    "    for pos in error_positions:\n",
    "        corrected_codeword[pos] ^= 1\n",
    "    print(f\"Исправленное кодовое слово: {corrected_codeword}\")\n",
    "else:\n",
    "    print(\"Ошибка не исправлена.\")\n",
    "\n",
    "# Проверка на отличие от отправленного\n",
    "if not np.array_equal(corrected_codeword, codeword):\n",
    "    print(\"Исправленное слово отличается от отправленного.\")\n",
    "else:\n",
    "    print(\"Исправленное слово совпадает с отправленным.\")"
   ],
   "metadata": {
    "colab": {
     "base_uri": "https://localhost:8080/"
    },
    "id": "m1xJ-Nfj9EbS",
    "outputId": "d7291404-1615-408b-bbfa-69e74f168d5d"
   },
   "execution_count": 1034,
   "outputs": [
    {
     "output_type": "stream",
     "name": "stdout",
     "text": [
      "Исходное сообщение: [1 1 1 0]\n",
      "Отправлено: [1 1 1 0 0 0 0]\n",
      "В ходе передачи возникла ошибка\n",
      "Принято: [1 1 0 0 0 1 0]\n",
      "Синдром: [1 0 0]\n",
      "Исправленное кодовое слово: [1 1 1 0 0 0 0]\n",
      "Исправленное слово совпадает с отправленным.\n"
     ]
    }
   ]
  },
  {
   "cell_type": "markdown",
   "source": [
    "# **r = 4**"
   ],
   "metadata": {
    "id": "Z2Mh-ySbfgdm"
   }
  },
  {
   "cell_type": "code",
   "source": [
    "G, H, n, k = r_init(4)\n",
    "print(\"Порождающая матрица G:\\n\", G)\n",
    "print(\"Проверочная матрица H:\\n\", H)"
   ],
   "metadata": {
    "colab": {
     "base_uri": "https://localhost:8080/"
    },
    "id": "fuPiO5tQfoS_",
    "outputId": "b7a0b118-3eab-4d16-dbc9-3e0e4a0ea4a3"
   },
   "execution_count": 1035,
   "outputs": [
    {
     "output_type": "stream",
     "name": "stdout",
     "text": [
      "Порождающая матрица G:\n",
      " [[1 0 0 0 0 0 0 0 0 0 0 0 0 1 1]\n",
      " [0 1 0 0 0 0 0 0 0 0 0 0 1 0 1]\n",
      " [0 0 1 0 0 0 0 0 0 0 0 0 1 1 0]\n",
      " [0 0 0 1 0 0 0 0 0 0 0 0 1 1 1]\n",
      " [0 0 0 0 1 0 0 0 0 0 0 1 0 0 1]\n",
      " [0 0 0 0 0 1 0 0 0 0 0 1 0 1 0]\n",
      " [0 0 0 0 0 0 1 0 0 0 0 1 0 1 1]\n",
      " [0 0 0 0 0 0 0 1 0 0 0 1 1 0 0]\n",
      " [0 0 0 0 0 0 0 0 1 0 0 1 1 0 1]\n",
      " [0 0 0 0 0 0 0 0 0 1 0 1 1 1 0]\n",
      " [0 0 0 0 0 0 0 0 0 0 1 1 1 1 1]]\n",
      "Проверочная матрица H:\n",
      " [[0 0 1 1]\n",
      " [0 1 0 1]\n",
      " [0 1 1 0]\n",
      " [0 1 1 1]\n",
      " [1 0 0 1]\n",
      " [1 0 1 0]\n",
      " [1 0 1 1]\n",
      " [1 1 0 0]\n",
      " [1 1 0 1]\n",
      " [1 1 1 0]\n",
      " [1 1 1 1]\n",
      " [1 0 0 0]\n",
      " [0 1 0 0]\n",
      " [0 0 1 0]\n",
      " [0 0 0 1]]\n"
     ]
    }
   ]
  },
  {
   "cell_type": "code",
   "source": [
    "def generate_syndrome_table(H, n):\n",
    "    syndrome_table = {}\n",
    "\n",
    "    # Однократные ошибки\n",
    "    for i in range(n):\n",
    "        e = np.zeros(n, dtype=int)\n",
    "        e[i] = 1  # Ошибка в позиции i\n",
    "        syndrome = np.dot(e, H) % 2\n",
    "        syndrome_table[tuple(syndrome)] = f\"Ошибка на позиции {i + 1}\"\n",
    "\n",
    "    # Двукратные ошибки\n",
    "    for i in range(n):\n",
    "        for j in range(i + 1, n):\n",
    "            e = np.zeros(n, dtype=int)\n",
    "            e[i] = 1\n",
    "            e[j] = 1  # Ошибка в позициях i и j\n",
    "            syndrome = np.dot(e, H) % 2\n",
    "            syndrome_table[tuple(syndrome)] = f\"Ошибка на позиции ({i + 1}, {j + 1})\"\n",
    "\n",
    "    # Трехкратные ошибки\n",
    "    for error_pos1 in range(n):\n",
    "        for error_pos2 in range(error_pos1 + 1, n):\n",
    "            for error_pos3 in range(error_pos2 + 1, n):\n",
    "                error_vector = np.zeros(n, dtype=int)\n",
    "                error_vector[error_pos1] = 1\n",
    "                error_vector[error_pos2] = 1\n",
    "                error_vector[error_pos3] = 1\n",
    "                syndrome = (error_vector @ H) % 2\n",
    "                syndrome_str = ''.join(map(str, syndrome))\n",
    "                if syndrome_str in syndrome_table:\n",
    "                    syndrome_table[syndrome_str].append((error_pos1 + 1, error_pos2 + 1, error_pos3 + 1))\n",
    "                else:\n",
    "                    syndrome_table[syndrome_str] = [(error_pos1 + 1, error_pos2 + 1, error_pos3 + 1)]\n",
    "\n",
    "    return syndrome_table\n",
    "\n",
    "syndrome_table = generate_syndrome_table(H, n)"
   ],
   "metadata": {
    "id": "eKIOH7hnfjjN"
   },
   "execution_count": 1036,
   "outputs": []
  },
  {
   "cell_type": "code",
   "source": [
    "message = np.random.randint(0, 2, size=k)\n",
    "print(\"Исходное сообщение:\", message)\n",
    "codeword = (message @ G) % 2\n",
    "print(\"Отправлено:\", codeword)\n",
    "\n",
    "# Внесение трехкратной ошибки в кодовое слово\n",
    "error_positions = np.random.choice(n, 3, replace=False)\n",
    "error_codeword = codeword.copy()\n",
    "error_codeword[error_positions] ^= 1\n",
    "print(\"В ходе передачи возникла ошибка\\nПринято:\", error_codeword)\n",
    "\n",
    "# Вычисление синдрома\n",
    "syndrome = (error_codeword @ H) % 2\n",
    "print(\"Синдром:\", syndrome)\n",
    "\n",
    "# Попытка исправить ошибку\n",
    "error_correction = syndrome_table.get(tuple(syndrome), None)\n",
    "\n",
    "if error_correction:\n",
    "    corrected_codeword = np.copy(error_codeword)\n",
    "\n",
    "    for pos in error_positions:\n",
    "        corrected_codeword[pos] ^= 1\n",
    "    print(f\"Исправленное кодовое слово: {corrected_codeword}\")\n",
    "else:\n",
    "    print(\"Ошибка не исправлена.\")\n",
    "\n",
    "# Проверка на отличие от отправленного\n",
    "if not np.array_equal(corrected_codeword, codeword):\n",
    "    print(\"Исправленное слово отличается от отправленного.\")\n",
    "else:\n",
    "    print(\"Исправленное слово совпадает с отправленным.\")"
   ],
   "metadata": {
    "colab": {
     "base_uri": "https://localhost:8080/"
    },
    "id": "cFK8ojqcg9cV",
    "outputId": "1b9bc607-02fc-4076-84a3-c307e142f408"
   },
   "execution_count": 1037,
   "outputs": [
    {
     "output_type": "stream",
     "name": "stdout",
     "text": [
      "Исходное сообщение: [1 0 1 0 1 1 1 0 1 0 1]\n",
      "Отправлено: [1 0 1 0 1 1 1 0 1 0 1 1 1 1 1]\n",
      "В ходе передачи возникла ошибка\n",
      "Принято: [1 0 1 0 0 0 1 0 1 0 0 1 1 1 1]\n",
      "Синдром: [1 1 0 0]\n",
      "Исправленное кодовое слово: [1 0 1 0 1 1 1 0 1 0 1 1 1 1 1]\n",
      "Исправленное слово совпадает с отправленным.\n"
     ]
    }
   ]
  },
  {
   "cell_type": "markdown",
   "source": [
    "## 3.3 Написать функцию формирования порождающей и проверочной матриц расширенного кода Хэмминга (𝟐𝒓,𝟐𝒓−𝒓−𝟏,𝟑) на основе параметра 𝒓, а также таблицы синдромов для всех однократных ошибок."
   ],
   "metadata": {
    "id": "rTOWQRQw56Xa"
   }
  },
  {
   "cell_type": "code",
   "source": [
    "def generate_extended_hamming_matrices(r):\n",
    "    G, H, n, k = r_init(r)\n",
    "\n",
    "    # Расширение матрицы G\n",
    "    parity_bits = np.mod(G.sum(axis=1), 2).astype(int)\n",
    "    G_extended = np.hstack((G, parity_bits.reshape(-1, 1)))\n",
    "\n",
    "    # Расширение матрицы H\n",
    "    H_extended = np.hstack((H, np.ones((H.shape[0], 1), dtype=int)))\n",
    "    overall_parity = np.mod(H_extended.sum(axis=0), 2).astype(int).reshape(1, -1)\n",
    "    H_extended = np.vstack((H_extended, overall_parity))\n",
    "\n",
    "    return G_extended, H_extended, n+1, k"
   ],
   "metadata": {
    "id": "I0ijZsY7r4qG"
   },
   "execution_count": 1038,
   "outputs": []
  },
  {
   "cell_type": "code",
   "source": [
    "r = 3\n",
    "G1, H1, n, k = generate_extended_hamming_matrices(r)\n",
    "print(\"Порождающая матрица G:\\n\", G1)\n",
    "print(\"Проверочная матрица H:\\n\", H1)"
   ],
   "metadata": {
    "colab": {
     "base_uri": "https://localhost:8080/"
    },
    "id": "Sz3QrrloMRna",
    "outputId": "86b1394e-68da-4e8b-8eb7-d5944a0f2e15"
   },
   "execution_count": 1039,
   "outputs": [
    {
     "output_type": "stream",
     "name": "stdout",
     "text": [
      "Порождающая матрица G:\n",
      " [[1 0 0 0 0 1 1 1]\n",
      " [0 1 0 0 1 0 1 1]\n",
      " [0 0 1 0 1 1 0 1]\n",
      " [0 0 0 1 1 1 1 0]]\n",
      "Проверочная матрица H:\n",
      " [[0 1 1 1]\n",
      " [1 0 1 1]\n",
      " [1 1 0 1]\n",
      " [1 1 1 1]\n",
      " [1 0 0 1]\n",
      " [0 1 0 1]\n",
      " [0 0 1 1]\n",
      " [0 0 0 1]]\n"
     ]
    }
   ]
  },
  {
   "cell_type": "markdown",
   "source": [
    "## 3.4. Провести исследование расширенного кода Хэмминга для одно-, двух-, трёх- и четырёхкратных ошибок для 𝒓=𝟐,𝟑,𝟒."
   ],
   "metadata": {
    "id": "ILngq2Dp58b4"
   }
  },
  {
   "cell_type": "markdown",
   "source": [
    "# **r = 2**"
   ],
   "metadata": {
    "id": "ezI4aQXaukxu"
   }
  },
  {
   "cell_type": "code",
   "source": [
    "r = 2\n",
    "G1, H1, n, k = generate_extended_hamming_matrices(r)\n",
    "print(\"Порождающая матрица G:\\n\", G1)\n",
    "print(\"Проверочная матрица H:\\n\", H1)"
   ],
   "metadata": {
    "colab": {
     "base_uri": "https://localhost:8080/"
    },
    "id": "SLeK5_aGudHc",
    "outputId": "9f1d398b-78df-4860-dc18-6b16274a949d"
   },
   "execution_count": 1040,
   "outputs": [
    {
     "output_type": "stream",
     "name": "stdout",
     "text": [
      "Порождающая матрица G:\n",
      " [[1 1 1 1]]\n",
      "Проверочная матрица H:\n",
      " [[1 1 1]\n",
      " [1 0 1]\n",
      " [0 1 1]\n",
      " [0 0 1]]\n"
     ]
    }
   ]
  },
  {
   "cell_type": "code",
   "source": [
    "syndromes = {}\n",
    "for i in range(n):\n",
    "    E = np.zeros(n, dtype=int)\n",
    "    E[i] = 1\n",
    "    S = (E @ H1) % 2\n",
    "    syndromes[tuple(S)] = tuple(E)"
   ],
   "metadata": {
    "id": "exavRwfsugDe"
   },
   "execution_count": 1041,
   "outputs": []
  },
  {
   "cell_type": "code",
   "source": [
    "message = np.random.randint(0, 2, size=k)\n",
    "print(\"Исходное сообщение:\", message)\n",
    "codeword = (message @ G1) % 2\n",
    "print(\"Отправлено:\", codeword)\n",
    "\n",
    "# Внесение однократной ошибки в кодовое слово\n",
    "error_position = np.random.randint(0, n)\n",
    "codeword_with_error = codeword.copy()\n",
    "codeword_with_error[error_position] ^= 1\n",
    "print(\"В ходе передачи возникла ошибка\\nПринято:\", codeword_with_error)\n",
    "\n",
    "# Вычисление синдрома\n",
    "syndrome = (codeword_with_error @ H1) % 2\n",
    "print(\"Синдром:\", syndrome)\n",
    "\n",
    "# Исправление ошибки\n",
    "if tuple(syndrome) in syndromes:\n",
    "    error_vector = syndromes[tuple(syndrome)]\n",
    "    print(\"В принятом сообщении есть ошибка\\nОшибка:\", error_vector)\n",
    "\n",
    "    corrected_codeword = codeword_with_error.copy()\n",
    "    corrected_codeword[np.where(np.array(error_vector) == 1)[0]] ^= 1\n",
    "\n",
    "    # Проверка на отличие от отправленного\n",
    "    if not np.array_equal(corrected_codeword, codeword):\n",
    "        print(\"Исправленное слово отличается от отправленного.\")\n",
    "    else:\n",
    "        print(\"Исправленное слово совпадает с отправленным.\")\n",
    "else:\n",
    "    corrected_codeword = codeword_with_error\n",
    "print(\"Исправленное сообщение:\", corrected_codeword)"
   ],
   "metadata": {
    "id": "wkIKkimt5_DW",
    "colab": {
     "base_uri": "https://localhost:8080/"
    },
    "outputId": "1abd26ad-0c1e-40f7-e6f0-63ede567dd74"
   },
   "execution_count": 1042,
   "outputs": [
    {
     "output_type": "stream",
     "name": "stdout",
     "text": [
      "Исходное сообщение: [1]\n",
      "Отправлено: [1 1 1 1]\n",
      "В ходе передачи возникла ошибка\n",
      "Принято: [0 1 1 1]\n",
      "Синдром: [1 1 1]\n",
      "В принятом сообщении есть ошибка\n",
      "Ошибка: (1, 0, 0, 0)\n",
      "Исправленное слово совпадает с отправленным.\n",
      "Исправленное сообщение: [1 1 1 1]\n"
     ]
    }
   ]
  },
  {
   "cell_type": "markdown",
   "source": [
    "# **r = 3**"
   ],
   "metadata": {
    "id": "yx5-vusRungu"
   }
  },
  {
   "cell_type": "code",
   "source": [
    "r = 3\n",
    "G1, H1, n, k = generate_extended_hamming_matrices(r)\n",
    "print(\"Порождающая матрица G:\\n\", G1)\n",
    "print(\"Проверочная матрица H:\\n\", H1)"
   ],
   "metadata": {
    "colab": {
     "base_uri": "https://localhost:8080/"
    },
    "id": "9j1ROY8Cup4s",
    "outputId": "3ce2ba16-4688-41e1-ed8a-015760265933"
   },
   "execution_count": 1043,
   "outputs": [
    {
     "output_type": "stream",
     "name": "stdout",
     "text": [
      "Порождающая матрица G:\n",
      " [[1 0 0 0 0 1 1 1]\n",
      " [0 1 0 0 1 0 1 1]\n",
      " [0 0 1 0 1 1 0 1]\n",
      " [0 0 0 1 1 1 1 0]]\n",
      "Проверочная матрица H:\n",
      " [[0 1 1 1]\n",
      " [1 0 1 1]\n",
      " [1 1 0 1]\n",
      " [1 1 1 1]\n",
      " [1 0 0 1]\n",
      " [0 1 0 1]\n",
      " [0 0 1 1]\n",
      " [0 0 0 1]]\n"
     ]
    }
   ]
  },
  {
   "cell_type": "code",
   "source": [
    "def generate_syndromes(H1):\n",
    "    syndromes = {}\n",
    "\n",
    "    # Однократные ошибки\n",
    "    for i in range(H1.shape[0]):\n",
    "        e = np.zeros(H1.shape[0], dtype=int)\n",
    "        e[i] = 1\n",
    "        syndrome = np.dot(e, H1) % 2\n",
    "        syndromes[tuple(syndrome)] = f\"Ошибка на позиции {i + 1}\"\n",
    "\n",
    "    # Двукратные ошибки\n",
    "    for i in range(H1.shape[0]):\n",
    "        for j in range(i + 1, H1.shape[0]):\n",
    "            e = np.zeros(H1.shape[0], dtype=int)\n",
    "            e[i] = 1\n",
    "            e[j] = 1\n",
    "            syndrome = np.dot(e, H1) % 2\n",
    "            syndromes[tuple(syndrome)] = f\"Ошибка на позиции ({i + 1}, {j + 1})\"\n",
    "\n",
    "    return syndromes\n",
    "\n",
    "syndromes = generate_syndromes(H1)"
   ],
   "metadata": {
    "id": "xVjiFBF3bS7n"
   },
   "execution_count": 1044,
   "outputs": []
  },
  {
   "cell_type": "code",
   "source": [
    "message = np.random.randint(0, 2, size=k)\n",
    "print(\"Исходное сообщение:\", message)\n",
    "codeword = (message @ G1) % 2\n",
    "print(\"Отправлено:\", codeword)\n",
    "\n",
    "# Внесение двукратной ошибки в кодовое слово\n",
    "error_positions = np.random.choice(n, 2, replace=False)\n",
    "error_codeword = codeword.copy()\n",
    "error_codeword[error_positions] ^= 1\n",
    "print(\"В ходе передачи возникла ошибка\\nПринято:\", error_codeword)\n",
    "\n",
    "# Вычисление синдрома\n",
    "syndrome = (error_codeword @ H1) % 2\n",
    "print(\"Синдром:\", syndrome)\n",
    "\n",
    "# Генерация таблицы синдромов\n",
    "syndromes = generate_syndromes(H1)\n",
    "\n",
    "# Попытка исправить ошибку\n",
    "error_correction = syndromes.get(tuple(syndrome), None)\n",
    "\n",
    "if error_correction:\n",
    "    corrected_codeword = np.copy(error_codeword)\n",
    "\n",
    "    for pos in error_positions:\n",
    "        corrected_codeword[pos] ^= 1\n",
    "    print(f\"Исправленное кодовое слово: {corrected_codeword}\")\n",
    "else:\n",
    "    print(\"Ошибка не исправлена.\")\n",
    "\n",
    "# Проверка на отличие от отправленного\n",
    "if not np.array_equal(corrected_codeword, codeword):\n",
    "    print(\"Исправленное слово отличается от отправленного.\")\n",
    "else:\n",
    "    print(\"Исправленное слово совпадает с отправленным.\")"
   ],
   "metadata": {
    "colab": {
     "base_uri": "https://localhost:8080/"
    },
    "id": "04nqcA2puv7_",
    "outputId": "657fe536-3436-4ee4-b53a-97515ae010c0"
   },
   "execution_count": 1045,
   "outputs": [
    {
     "output_type": "stream",
     "name": "stdout",
     "text": [
      "Исходное сообщение: [1 0 0 0]\n",
      "Отправлено: [1 0 0 0 0 1 1 1]\n",
      "В ходе передачи возникла ошибка\n",
      "Принято: [1 0 0 1 1 1 1 1]\n",
      "Синдром: [0 1 1 0]\n",
      "Исправленное кодовое слово: [1 0 0 0 0 1 1 1]\n",
      "Исправленное слово совпадает с отправленным.\n"
     ]
    }
   ]
  },
  {
   "cell_type": "markdown",
   "source": [
    "# **r = 4**"
   ],
   "metadata": {
    "id": "MEJyPIeguzoP"
   }
  },
  {
   "cell_type": "code",
   "source": [
    "r = 4\n",
    "G1, H1, n, k = generate_extended_hamming_matrices(r)\n",
    "print(\"Порождающая матрица G:\\n\", G1)\n",
    "print(\"Проверочная матрица H:\\n\", H1)"
   ],
   "metadata": {
    "colab": {
     "base_uri": "https://localhost:8080/"
    },
    "id": "duKej2nou3Uc",
    "outputId": "79e415c9-f263-442f-904a-903199c6eb5b"
   },
   "execution_count": 1046,
   "outputs": [
    {
     "output_type": "stream",
     "name": "stdout",
     "text": [
      "Порождающая матрица G:\n",
      " [[1 0 0 0 0 0 0 0 0 0 0 0 0 1 1 1]\n",
      " [0 1 0 0 0 0 0 0 0 0 0 0 1 0 1 1]\n",
      " [0 0 1 0 0 0 0 0 0 0 0 0 1 1 0 1]\n",
      " [0 0 0 1 0 0 0 0 0 0 0 0 1 1 1 0]\n",
      " [0 0 0 0 1 0 0 0 0 0 0 1 0 0 1 1]\n",
      " [0 0 0 0 0 1 0 0 0 0 0 1 0 1 0 1]\n",
      " [0 0 0 0 0 0 1 0 0 0 0 1 0 1 1 0]\n",
      " [0 0 0 0 0 0 0 1 0 0 0 1 1 0 0 1]\n",
      " [0 0 0 0 0 0 0 0 1 0 0 1 1 0 1 0]\n",
      " [0 0 0 0 0 0 0 0 0 1 0 1 1 1 0 0]\n",
      " [0 0 0 0 0 0 0 0 0 0 1 1 1 1 1 1]]\n",
      "Проверочная матрица H:\n",
      " [[0 0 1 1 1]\n",
      " [0 1 0 1 1]\n",
      " [0 1 1 0 1]\n",
      " [0 1 1 1 1]\n",
      " [1 0 0 1 1]\n",
      " [1 0 1 0 1]\n",
      " [1 0 1 1 1]\n",
      " [1 1 0 0 1]\n",
      " [1 1 0 1 1]\n",
      " [1 1 1 0 1]\n",
      " [1 1 1 1 1]\n",
      " [1 0 0 0 1]\n",
      " [0 1 0 0 1]\n",
      " [0 0 1 0 1]\n",
      " [0 0 0 1 1]\n",
      " [0 0 0 0 1]]\n"
     ]
    }
   ]
  },
  {
   "cell_type": "code",
   "source": [
    "def generate_syndromes(H1):\n",
    "    syndromes = {}\n",
    "    n = H1.shape[0]\n",
    "\n",
    "    # Однократные ошибки\n",
    "    for i in range(n):\n",
    "        e = np.zeros(n, dtype=int)\n",
    "        e[i] = 1  # Ошибка в позиции i\n",
    "        syndrome = np.dot(e, H1) % 2\n",
    "        syndromes[tuple(syndrome)] = f\"Ошибка на позиции {i + 1}\"\n",
    "\n",
    "    # Двукратные ошибки\n",
    "    for i in range(n):\n",
    "        for j in range(i + 1, n):\n",
    "            e = np.zeros(n, dtype=int)\n",
    "            e[i] = 1\n",
    "            e[j] = 1  # Ошибка в позициях i и j\n",
    "            syndrome = np.dot(e, H1) % 2\n",
    "            syndromes[tuple(syndrome)] = f\"Ошибка на позиции ({i + 1}, {j + 1})\"\n",
    "\n",
    "    # Трехкратные ошибки\n",
    "    for error_pos1 in range(n):\n",
    "        for error_pos2 in range(error_pos1 + 1, n):\n",
    "            for error_pos3 in range(error_pos2 + 1, n):\n",
    "                error_vector = np.zeros(n, dtype=int)\n",
    "                error_vector[error_pos1] = 1\n",
    "                error_vector[error_pos2] = 1\n",
    "                error_vector[error_pos3] = 1\n",
    "                syndrome = (error_vector @ H1) % 2\n",
    "                syndrome_str = ''.join(map(str, syndrome))\n",
    "                if syndrome_str in syndromes:\n",
    "                    syndromes[syndrome_str].append((error_pos1 + 1, error_pos2 + 1, error_pos3 + 1))\n",
    "                else:\n",
    "                    syndromes[syndrome_str] = [(error_pos1 + 1, error_pos2 + 1, error_pos3 + 1)]\n",
    "\n",
    "    return syndromes\n",
    "\n",
    "syndromes = generate_syndromes(H1)"
   ],
   "metadata": {
    "id": "wNQ6Hdkwd5hg"
   },
   "execution_count": 1047,
   "outputs": []
  },
  {
   "cell_type": "code",
   "source": [
    "message = np.random.randint(0, 2, size=k)\n",
    "print(\"Исходное сообщение:\", message)\n",
    "codeword = (message @ G1) % 2\n",
    "print(\"Отправлено:\", codeword)\n",
    "\n",
    "# Внесение трехкратной ошибки в кодовое слово\n",
    "error_positions = np.random.choice(n, 3, replace=False)\n",
    "error_codeword = codeword.copy()\n",
    "error_codeword[error_positions] ^= 1\n",
    "print(\"В ходе передачи возникла ошибка\\nПринято:\", error_codeword)\n",
    "\n",
    "# Вычисление синдрома\n",
    "syndrome = (error_codeword @ H1) % 2\n",
    "print(\"Синдром:\", syndrome)\n",
    "\n",
    "# Генерация таблицы синдромов\n",
    "syndromes = generate_syndromes(H1)\n",
    "\n",
    "# Попытка исправить ошибку\n",
    "error_correction = syndromes.get(tuple(syndrome), None)\n",
    "\n",
    "if error_correction:\n",
    "    corrected_codeword = np.copy(error_codeword)\n",
    "\n",
    "    for pos in error_positions:\n",
    "        corrected_codeword[pos] ^= 1\n",
    "    print(f\"Исправленное кодовое слово: {corrected_codeword}\")\n",
    "else:\n",
    "    print(\"Ошибка не исправлена.\")\n",
    "\n",
    "# Проверка на отличие от отправленного\n",
    "if not np.array_equal(corrected_codeword, codeword):\n",
    "    print(\"Исправленное слово отличается от отправленного.\")\n",
    "else:\n",
    "    print(\"Исправленное слово совпадает с отправленным.\")"
   ],
   "metadata": {
    "colab": {
     "base_uri": "https://localhost:8080/"
    },
    "id": "CRZDCO8qu9_V",
    "outputId": "6703b18e-36be-4858-cb70-a0d04b8e6e10"
   },
   "execution_count": 1048,
   "outputs": [
    {
     "output_type": "stream",
     "name": "stdout",
     "text": [
      "Исходное сообщение: [1 0 0 0 0 1 1 0 1 0 1]\n",
      "Отправлено: [1 0 0 0 0 1 1 0 1 0 1 0 0 0 0 1]\n",
      "В ходе передачи возникла ошибка\n",
      "Принято: [1 0 0 0 0 1 1 0 1 1 1 0 1 1 0 1]\n",
      "Синдром: [1 0 0 0 1]\n",
      "Исправленное кодовое слово: [1 0 0 0 0 1 1 0 1 0 1 0 0 0 0 1]\n",
      "Исправленное слово совпадает с отправленным.\n"
     ]
    }
   ]
  },
  {
   "cell_type": "markdown",
   "source": [
    "# **r = 4 (четырехкратная ошибка)**"
   ],
   "metadata": {
    "id": "Rd8cpZDszi6G"
   }
  },
  {
   "cell_type": "code",
   "source": [
    "def generate_syndromes(H1):\n",
    "    syndromes = {}\n",
    "    n = H1.shape[0]\n",
    "\n",
    "    # Однократные ошибки\n",
    "    for i in range(n):\n",
    "        e = np.zeros(n, dtype=int)\n",
    "        e[i] = 1  # Ошибка в позиции i\n",
    "        syndrome = np.dot(e, H1) % 2\n",
    "        syndromes[tuple(syndrome)] = f\"Ошибка на позиции {i + 1}\"\n",
    "\n",
    "    # Двукратные ошибки\n",
    "    for i in range(n):\n",
    "        for j in range(i + 1, n):\n",
    "            e = np.zeros(n, dtype=int)\n",
    "            e[i] = 1\n",
    "            e[j] = 1  # Ошибка в позициях i и j\n",
    "            syndrome = np.dot(e, H1) % 2\n",
    "            syndromes[tuple(syndrome)] = f\"Ошибка на позиции ({i + 1}, {j + 1})\"\n",
    "\n",
    "    # Трехкратные ошибки\n",
    "    for error_pos1 in range(n):\n",
    "        for error_pos2 in range(error_pos1 + 1, n):\n",
    "            for error_pos3 in range(error_pos2 + 1, n):\n",
    "                error_vector = np.zeros(n, dtype=int)\n",
    "                error_vector[error_pos1] = 1\n",
    "                error_vector[error_pos2] = 1\n",
    "                error_vector[error_pos3] = 1\n",
    "                syndrome = (error_vector @ H1) % 2\n",
    "                syndrome_str = ''.join(map(str, syndrome))\n",
    "                if syndrome_str in syndromes:\n",
    "                    syndromes[syndrome_str].append((error_pos1 + 1, error_pos2 + 1, error_pos3 + 1))\n",
    "                else:\n",
    "                    syndromes[syndrome_str] = [(error_pos1 + 1, error_pos2 + 1, error_pos3 + 1)]\n",
    "\n",
    "    # Четырехкратные ошибки\n",
    "    for error_pos1 in range(n):\n",
    "        for error_pos2 in range(error_pos1 + 1, n):\n",
    "            for error_pos3 in range(error_pos2 + 1, n):\n",
    "                for error_pos4 in range(error_pos3 + 1, n):\n",
    "                    error_vector = np.zeros(n, dtype=int)\n",
    "                    error_vector[error_pos1] = 1\n",
    "                    error_vector[error_pos2] = 1\n",
    "                    error_vector[error_pos3] = 1\n",
    "                    error_vector[error_pos4] = 1\n",
    "                    syndrome = (error_vector @ H1) % 2\n",
    "                    syndrome_str = ''.join(map(str, syndrome))\n",
    "                    if syndrome_str in syndromes:\n",
    "                        syndromes[syndrome_str].append((error_pos1 + 1, error_pos2 + 1, error_pos3 + 1, error_pos4 + 1))\n",
    "                    else:\n",
    "                        syndromes[syndrome_str] = [(error_pos1 + 1, error_pos2 + 1, error_pos3 + 1, error_pos4 + 1)]\n",
    "\n",
    "    return syndromes\n",
    "\n",
    "syndromes = generate_syndromes(H1)"
   ],
   "metadata": {
    "id": "--kUFYb5ea5H"
   },
   "execution_count": 1049,
   "outputs": []
  },
  {
   "cell_type": "code",
   "source": [
    "message = np.random.randint(0, 2, size=k)\n",
    "print(\"Исходное сообщение:\", message)\n",
    "codeword = (message @ G1) % 2\n",
    "print(\"Отправлено:\", codeword)\n",
    "\n",
    "# Внесение четырехкратной ошибки в кодовое слово\n",
    "error_positions = np.random.choice(n, 4, replace=False)\n",
    "error_codeword = codeword.copy()\n",
    "error_codeword[error_positions] ^= 1\n",
    "print(\"В ходе передачи возникла ошибка\\nПринято:\", error_codeword)\n",
    "\n",
    "# Вычисление синдрома\n",
    "syndrome = (error_codeword @ H1) % 2\n",
    "print(\"Синдром:\", syndrome)\n",
    "\n",
    "# Генерация таблицы синдромов\n",
    "syndromes = generate_syndromes(H1)\n",
    "\n",
    "# Попытка исправить ошибку\n",
    "error_correction = syndromes.get(tuple(syndrome), None)\n",
    "\n",
    "if error_correction:\n",
    "    corrected_codeword = np.copy(error_codeword)\n",
    "\n",
    "    for pos in error_positions:\n",
    "        corrected_codeword[pos] ^= 1\n",
    "    print(f\"Исправленное кодовое слово: {corrected_codeword}\")\n",
    "else:\n",
    "    print(\"Ошибка не исправлена.\")\n",
    "\n",
    "# Проверка на отличие от отправленного\n",
    "if not np.array_equal(corrected_codeword, codeword):\n",
    "    print(\"Исправленное слово отличается от отправленного.\")\n",
    "else:\n",
    "    print(\"Исправленное слово совпадает с отправленным.\")"
   ],
   "metadata": {
    "colab": {
     "base_uri": "https://localhost:8080/"
    },
    "id": "Z2y9AoG2zr7u",
    "outputId": "1a97e340-aef2-4958-9df8-24e0fb2a2091"
   },
   "execution_count": 1050,
   "outputs": [
    {
     "output_type": "stream",
     "name": "stdout",
     "text": [
      "Исходное сообщение: [1 1 0 1 0 0 1 0 0 0 0]\n",
      "Отправлено: [1 1 0 1 0 0 1 0 0 0 0 1 0 1 0 0]\n",
      "В ходе передачи возникла ошибка\n",
      "Принято: [1 1 0 0 0 0 0 0 0 0 1 1 0 0 0 0]\n",
      "Синдром: [0 0 0 1 0]\n",
      "Исправленное кодовое слово: [1 1 0 1 0 0 1 0 0 0 0 1 0 1 0 0]\n",
      "Исправленное слово совпадает с отправленным.\n"
     ]
    }
   ]
  }
 ]
}
